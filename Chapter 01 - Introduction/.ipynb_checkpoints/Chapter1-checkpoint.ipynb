{
  "cells": [
    {
      "cell_type": "markdown",
      "metadata": {
        "id": "view-in-github",
        "colab_type": "text"
      },
      "source": [
        "<a href=\"https://colab.research.google.com/github/KokXiang/Practical-Discrete-Mathematics/blob/master/Chapter%2001%20-%20Introduction/.ipynb_checkpoints/Chapter1-checkpoint.ipynb\" target=\"_parent\"><img src=\"https://colab.research.google.com/assets/colab-badge.svg\" alt=\"Open In Colab\"/></a>"
      ]
    },
    {
      "cell_type": "markdown",
      "metadata": {
        "id": "RnzGa5nBPnWl"
      },
      "source": [
        "# Chapter 1 - Introduction: Key Concepts, Notation, Set Theory, Relations, and Functions\n",
        "\n",
        "This notebook contains code accompanying Chapter 1 Introduction: Key Concepts, Notation, Set Theory, Relations, and Functions in *Practical Discrete Mathematics* by Ryan T. White and Archana Tikayat Ray\n",
        "\n",
        "## Functions and Relations\n",
        "\n",
        "### The `sort()` function"
      ]
    },
    {
      "cell_type": "code",
      "execution_count": null,
      "metadata": {
        "id": "dA4EpLXAPnWo",
        "outputId": "6ed71533-284b-402a-d6e7-50bae063b1fc"
      },
      "outputs": [
        {
          "name": "stdout",
          "output_type": "stream",
          "text": [
            "[1, 2, 3, 4, 5, 8, 9, 12]\n",
            "['Brandon', 'Elise', 'Eugene', 'Kumar', 'Wyatt']\n"
          ]
        }
      ],
      "source": [
        "numbers = [3, 1, 4, 12, 8, 5, 2, 9]\n",
        "names = ['Wyatt', 'Brandon', 'Kumar', 'Eugene', 'Elise']\n",
        "\n",
        "# Apply the sort() function to the lists\n",
        "numbers.sort()\n",
        "names.sort()\n",
        "\n",
        "# Display the output\n",
        "print(numbers)\n",
        "print(names)"
      ]
    },
    {
      "cell_type": "markdown",
      "metadata": {
        "id": "o6WziYPjPnWp"
      },
      "source": [
        "### The `shuffle()` function"
      ]
    },
    {
      "cell_type": "code",
      "execution_count": null,
      "metadata": {
        "id": "z3pfb_1RPnWp",
        "outputId": "da166751-ecf6-4f2b-95b9-d205aa164908"
      },
      "outputs": [
        {
          "name": "stdout",
          "output_type": "stream",
          "text": [
            "[12, 2, 1, 5, 9, 3, 8, 4]\n",
            "[4, 2, 8, 3, 1, 12, 5, 9]\n",
            "[4, 5, 1, 9, 3, 8, 12, 2]\n",
            "[9, 12, 2, 8, 5, 3, 4, 1]\n",
            "[9, 8, 4, 3, 12, 1, 5, 2]\n"
          ]
        }
      ],
      "source": [
        "import random\n",
        "\n",
        "# Set a random seed so the code is reproducible\n",
        "random.seed(1)\n",
        "\n",
        "# Run the random.shuffle() function 5 times and display the outputs\n",
        "for i in range(0,5):\n",
        "    numbers = [3, 1, 4, 12, 8, 5, 2, 9]\n",
        "    random.shuffle(numbers)\n",
        "    print(numbers)"
      ]
    },
    {
      "cell_type": "markdown",
      "source": [
        "Q2 Write a python code that count the number of character in your English Full\n",
        "name\n"
      ],
      "metadata": {
        "id": "V9SWc8zcPv_T"
      }
    },
    {
      "cell_type": "code",
      "metadata": {
        "colab": {
          "base_uri": "https://localhost:8080/"
        },
        "id": "29481388",
        "outputId": "3ab2f1d8-20bc-4f6e-dd40-b14fd2fb0cbe"
      },
      "source": [
        "full_name = \"Tan Kok Xiang\" # Replace with your full name\n",
        "full_name_no_spaces = full_name.replace(\" \", \"\")\n",
        "character_count_no_spaces = len(full_name_no_spaces)\n",
        "print(f\"The number of characters in your full name (excluding spaces) is: {character_count_no_spaces}\")"
      ],
      "execution_count": 8,
      "outputs": [
        {
          "output_type": "stream",
          "name": "stdout",
          "text": [
            "The number of characters in your full name (excluding spaces) is: 11\n"
          ]
        }
      ]
    }
  ],
  "metadata": {
    "kernelspec": {
      "display_name": "Python 3.7 (DL)",
      "language": "python",
      "name": "dl"
    },
    "language_info": {
      "codemirror_mode": {
        "name": "ipython",
        "version": 3
      },
      "file_extension": ".py",
      "mimetype": "text/x-python",
      "name": "python",
      "nbconvert_exporter": "python",
      "pygments_lexer": "ipython3",
      "version": "3.7.7"
    },
    "colab": {
      "provenance": [],
      "include_colab_link": true
    }
  },
  "nbformat": 4,
  "nbformat_minor": 0
}